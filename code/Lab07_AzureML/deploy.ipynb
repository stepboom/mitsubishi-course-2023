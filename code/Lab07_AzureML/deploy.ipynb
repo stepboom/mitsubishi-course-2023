{
 "cells": [
  {
   "cell_type": "code",
   "execution_count": 4,
   "metadata": {},
   "outputs": [],
   "source": [
    "# import libs\n",
    "\n",
    "import urllib.request\n",
    "import json\n",
    "import os\n",
    "import ssl"
   ]
  },
  {
   "cell_type": "code",
   "execution_count": 5,
   "metadata": {},
   "outputs": [],
   "source": [
    "def allowSelfSignedHttps(allowed):\n",
    "    # bypass the server certificate verification on client side\n",
    "    if allowed and not os.environ.get('PYTHONHTTPSVERIFY', '') and getattr(ssl, '_create_unverified_context', None):\n",
    "        ssl._create_default_https_context = ssl._create_unverified_context\n",
    "\n",
    "allowSelfSignedHttps(True) # this line is needed if you use self-signed certificate in your scoring service."
   ]
  },
  {
   "cell_type": "code",
   "execution_count": 6,
   "metadata": {},
   "outputs": [],
   "source": [
    "# Input your API parameters here\n",
    "\n",
    "# Example Data\n",
    "# {\n",
    "#   \"Inputs\": {\n",
    "#     \"data\": [\n",
    "#       {\n",
    "#         \"ID\": 0,\n",
    "#         \"Levy\": \"example_value\",\n",
    "#         \"Manufacturer\": \"example_value\",\n",
    "#         \"Model\": \"example_value\",\n",
    "#         \"ProdYear\": 0,\n",
    "#         \"Category\": \"example_value\",\n",
    "#         \"LeatherInterior\": false,\n",
    "#         \"FuelType\": \"example_value\",\n",
    "#         \"EngineVolume\": \"example_value\",\n",
    "#         \"Mileage\": \"example_value\",\n",
    "#         \"Cylinders\": 0.0,\n",
    "#         \"GearBoxType\": \"example_value\",\n",
    "#         \"DriveWheels\": \"example_value\",\n",
    "#         \"Doors\": \"example_value\",\n",
    "#         \"Wheel\": \"example_value\",\n",
    "#         \"Color\": \"example_value\",\n",
    "#         \"Airbags\": 0\n",
    "#       }\n",
    "#     ]\n",
    "#   },\n",
    "#   \"GlobalParameters\": 0.0\n",
    "# }\n",
    "\n",
    "url = 'https://az-mitsubishi-ml-admin-hmvwy.southeastasia.inference.ml.azure.com/score'\n",
    "\n",
    "data = {\n",
    "  \"Inputs\": {\n",
    "    \"data\": [\n",
    "      {\n",
    "        \"ID\": 0,\n",
    "        \"Levy\": \"example_value\",\n",
    "        \"Manufacturer\": \"example_value\",\n",
    "        \"Model\": \"example_value\",\n",
    "        \"ProdYear\": 0,\n",
    "        \"Category\": \"example_value\",\n",
    "        \"LeatherInterior\": False,\n",
    "        \"FuelType\": \"example_value\",\n",
    "        \"EngineVolume\": \"example_value\",\n",
    "        \"Mileage\": \"example_value\",\n",
    "        \"Cylinders\": 0.0,\n",
    "        \"GearBoxType\": \"example_value\",\n",
    "        \"DriveWheels\": \"example_value\",\n",
    "        \"Doors\": \"example_value\",\n",
    "        \"Wheel\": \"example_value\",\n",
    "        \"Color\": \"example_value\",\n",
    "        \"Airbags\": 0\n",
    "      }\n",
    "    ]\n",
    "  },\n",
    "  \"GlobalParameters\": 0.0\n",
    "}\n",
    "\n",
    "api_key = 'sxhDx1Yjtvc5obxwCi5mhK7TSLcJUHeH'"
   ]
  },
  {
   "cell_type": "code",
   "execution_count": 7,
   "metadata": {},
   "outputs": [
    {
     "name": "stdout",
     "output_type": "stream",
     "text": [
      "14692.330500246273\n"
     ]
    }
   ],
   "source": [
    "body = str.encode(json.dumps(data))\n",
    "\n",
    "headers = {'Content-Type':'application/json', 'Authorization':('Bearer '+ api_key) }\n",
    "\n",
    "req = urllib.request.Request(url, body, headers)\n",
    "\n",
    "try:\n",
    "    response = urllib.request.urlopen(req)\n",
    "    result = response.read()\n",
    "    result_json = json.loads(result)\n",
    "    print(result_json['Results'][0])\n",
    "except urllib.error.HTTPError as error:\n",
    "    print(\"The request failed with status code: \" + str(error.code))\n",
    "\n",
    "    # Print the headers - they include the requert ID and the timestamp, which are useful for debugging the failure\n",
    "    print(error.info())\n",
    "    print(error.read().decode(\"utf8\", 'ignore'))"
   ]
  }
 ],
 "metadata": {
  "kernelspec": {
   "display_name": "openai",
   "language": "python",
   "name": "python3"
  },
  "language_info": {
   "codemirror_mode": {
    "name": "ipython",
    "version": 3
   },
   "file_extension": ".py",
   "mimetype": "text/x-python",
   "name": "python",
   "nbconvert_exporter": "python",
   "pygments_lexer": "ipython3",
   "version": "3.10.9"
  },
  "orig_nbformat": 4
 },
 "nbformat": 4,
 "nbformat_minor": 2
}
